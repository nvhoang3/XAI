{
 "cells": [
  {
   "cell_type": "code",
   "execution_count": 3,
   "metadata": {},
   "outputs": [
    {
     "data": {
      "text/plain": [
       "KNeighborsClassifier(n_neighbors=17)"
      ]
     },
     "execution_count": 3,
     "metadata": {},
     "output_type": "execute_result"
    }
   ],
   "source": [
    "#from sklearn import KNeighborsClassifier\n",
    "from sklearn.neighbors import KNeighborsClassifier\n",
    "import pandas as pd\n",
    "#import time\n",
    "from sklearn.metrics import confusion_matrix\n",
    "import numpy as np\n",
    "\n",
    "#start = time.process_time()\n",
    "\n",
    "train = pd.read_excel('traindata.xlsx', header = 0)\n",
    "X_train = train.iloc[:,:-1]\n",
    "y_train = train.iloc[:,-1]\n",
    "model = KNeighborsClassifier(n_neighbors = 17)\n",
    "model.fit(X_train, y_train)\n",
    "#end = time.process_time()\n",
    "#print(\"Training time: \", end-start)"
   ]
  },
  {
   "cell_type": "code",
   "execution_count": 4,
   "metadata": {},
   "outputs": [
    {
     "name": "stdout",
     "output_type": "stream",
     "text": [
      "[[  12  388]\n",
      " [   0 2661]]\n"
     ]
    }
   ],
   "source": [
    "#start = time.process_time()\n",
    "test = pd.read_excel('testdata.xlsx', header = 0)\n",
    "X_test = test.iloc[:,:-1]\n",
    "y_test = test.iloc[:,-1]\n",
    "y_pred = model.predict(X_test)\n",
    "cm2 = confusion_matrix(y_test, y_pred)\n",
    "#end = time.process_time()\n",
    "#print(\"Detect time: \", end-start)\n",
    "print(cm2)"
   ]
  },
  {
   "cell_type": "code",
   "execution_count": 8,
   "metadata": {},
   "outputs": [],
   "source": [
    "TPR2 = np.sum(cm2[1:,1:])/np.sum(cm2[1:,:])\n",
    "FPR2 = np.sum(cm2[1:,0])/np.sum(cm2[0,:])\n",
    "Precision2 = np.sum(cm2[1:,1:])/np.sum(cm2[:,1:])\n",
    "TNR2 = cm2[0,0]/np.sum(cm2[0,:])\n",
    "FNR2 = np.sum(cm2[1:,0]/np.sum(cm2[1:,:]))\n",
    "F12 = 2*Precision2*TPR2/(Precision2+TPR2)\n",
    "Acc2 = np.sum(np.diag(cm2))/np.sum(cm2)"
   ]
  },
  {
   "cell_type": "code",
   "execution_count": 10,
   "metadata": {},
   "outputs": [
    {
     "name": "stdout",
     "output_type": "stream",
     "text": [
      "Acc =  0.8732440378961124\n"
     ]
    }
   ],
   "source": [
    "print(\"Acc = \",Acc2)"
   ]
  },
  {
   "cell_type": "code",
   "execution_count": null,
   "metadata": {},
   "outputs": [],
   "source": []
  }
 ],
 "metadata": {
  "kernelspec": {
   "display_name": "Python 3",
   "language": "python",
   "name": "python3"
  },
  "language_info": {
   "codemirror_mode": {
    "name": "ipython",
    "version": 3
   },
   "file_extension": ".py",
   "mimetype": "text/x-python",
   "name": "python",
   "nbconvert_exporter": "python",
   "pygments_lexer": "ipython3",
   "version": "3.8.5"
  }
 },
 "nbformat": 4,
 "nbformat_minor": 4
}
