{
 "cells": [
  {
   "cell_type": "code",
   "execution_count": null,
   "metadata": {},
   "outputs": [],
   "source": [
    "import numpy as np\n",
    "import pandas as pd\n",
    "from keras.models import Sequential\n",
    "from keras.layers import Dense\n",
    "from sklearn.metrics import confusion_matrix\n",
    "import time\n",
    "\n",
    "trainset = pd.read_excel('traindata.xlsx', header = 0)\n",
    "trainNor = trainset.iloc[:,:-1]\n",
    "y_train = trainset.iloc[:,-1]\n",
    "start = time.process_time()\n",
    "I = np.eye(11)\n",
    "model = Sequential()\n",
    "model.add(Dense(10, activation='relu', kernel_initializer='random_normal', input_dim=37))\n",
    "model.add(Dense(11, activation='softmax', kernel_initializer='random_normal'))\n",
    "model.compile(loss='categorical_crossentropy', optimizer='adam', metrics=['accuracy'])\n",
    "model.fit(trainNor, I[y_train,:], epochs = 100, batch_size = 100)\n",
    "end = time.process_time()\n",
    "train_time = end - start\n",
    "print(\"Training time: \", train_time)\n"
   ]
  },
  {
   "cell_type": "code",
   "execution_count": null,
   "metadata": {},
   "outputs": [],
   "source": [
    "testset = pd.read_excel('testdata.xlsx', header = 0)\n",
    "testNor = testset.iloc[:,:-1]\n",
    "y_test = testset.iloc[:,-1]\n",
    "test_sample = np.size(y_test,0)\n",
    "start = time.process_time()\n",
    "y_pred = model.predict(testNor)\n",
    "y = np.argmax(y_pred, 1)\n",
    "end = time.process_time()\n",
    "test_time = end - start\n",
    "print(\"Detect time: \", test_time)\n",
    "acc = sum(y==y_test)/test_sample\n",
    "cm = confusion_matrix(y_test, y)"
   ]
  },
  {
   "cell_type": "code",
   "execution_count": null,
   "metadata": {},
   "outputs": [],
   "source": []
  },
  {
   "cell_type": "code",
   "execution_count": null,
   "metadata": {},
   "outputs": [],
   "source": []
  }
 ],
 "metadata": {
  "kernelspec": {
   "display_name": "Python 3",
   "language": "python",
   "name": "python3"
  },
  "language_info": {
   "codemirror_mode": {
    "name": "ipython",
    "version": 3
   },
   "file_extension": ".py",
   "mimetype": "text/x-python",
   "name": "python",
   "nbconvert_exporter": "python",
   "pygments_lexer": "ipython3",
   "version": "3.8.5"
  }
 },
 "nbformat": 4,
 "nbformat_minor": 4
}
