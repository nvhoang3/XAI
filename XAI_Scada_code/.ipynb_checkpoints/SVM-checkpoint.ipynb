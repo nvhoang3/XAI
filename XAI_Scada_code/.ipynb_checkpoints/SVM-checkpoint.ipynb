{
 "cells": [
  {
   "cell_type": "code",
   "execution_count": null,
   "metadata": {},
   "outputs": [],
   "source": [
    "from sklearn import svm\n",
    "import pandas as pd\n",
    "import time\n",
    "from sklearn.metrics import confusion_matrix\n",
    "import numpy as np\n",
    "\n",
    "start = time.process_time()\n",
    "trainset = 'traindata.xlsx'\n",
    "train = pandas.read_excel(trainset, header = 0)\n",
    "X_train = train.iloc[:,:-1]\n",
    "y_train = train.iloc[:,-1]\n",
    "model = svm.SVC(kernel='rbf', gamma=0.05)\n",
    "model.fit(X_train, y_train)\n",
    "end = time.process_time()\n",
    "print(\"Training time: \", end-start)\n",
    "y_pred = model.predict(X_train)\n",
    "cm = confusion_matrix(y_train, y_pred)\n",
    "print(cm)\n"
   ]
  },
  {
   "cell_type": "code",
   "execution_count": null,
   "metadata": {},
   "outputs": [],
   "source": [
    "TPR = np.sum(cm[1:,1:])/np.sum(cm[1:,:])\n",
    "FPR = np.sum(cm[1:,0])/np.sum(cm[0,:])\n",
    "Precision = np.sum(cm[1:,1:])/np.sum(cm[:,1:])\n",
    "TNR = cm[0,0]/np.sum(cm[0,:])\n",
    "FNR = np.sum(cm[1:,0]/np.sum(cm[1:,:]))\n",
    "F1 = 2*Precision*TPR/(Precision+TPR)\n",
    "Acc = np.sum(np.diag(cm))/np.sum(cm)"
   ]
  },
  {
   "cell_type": "code",
   "execution_count": null,
   "metadata": {},
   "outputs": [],
   "source": [
    "start = time.process_time()\n",
    "testset = 'testdata.xlsx'\n",
    "test = pandas.read_excel(testset, header = 0)\n",
    "X_test = test.iloc[:,:-1]\n",
    "y_test = test.iloc[:,-1]\n",
    "y_pred = model.predict(X_test)\n",
    "cm2 = confusion_matrix(y_test, y_pred)\n",
    "end = time.process_time()\n",
    "print(\"Detect time: \", end-start)\n",
    "print(cm2)\n"
   ]
  },
  {
   "cell_type": "code",
   "execution_count": null,
   "metadata": {},
   "outputs": [],
   "source": [
    "TPR2 = np.sum(cm2[1:,1:])/np.sum(cm2[1:,:])\n",
    "FPR2 = np.sum(cm2[1:,0])/np.sum(cm2[0,:])\n",
    "Precision2 = np.sum(cm2[1:,1:])/np.sum(cm2[:,1:])\n",
    "TNR2 = cm2[0,0]/np.sum(cm2[0,:])\n",
    "FNR2 = np.sum(cm2[1:,0]/np.sum(cm2[1:,:]))\n",
    "F12 = 2*Precision*TPR/(Precision+TPR)\n",
    "Acc2 = np.sum(np.diag(cm2))/np.sum(cm2)"
   ]
  }
 ],
 "metadata": {
  "kernelspec": {
   "display_name": "Python 3",
   "language": "python",
   "name": "python3"
  },
  "language_info": {
   "codemirror_mode": {
    "name": "ipython",
    "version": 3
   },
   "file_extension": ".py",
   "mimetype": "text/x-python",
   "name": "python",
   "nbconvert_exporter": "python",
   "pygments_lexer": "ipython3",
   "version": "3.8.5"
  }
 },
 "nbformat": 4,
 "nbformat_minor": 4
}
