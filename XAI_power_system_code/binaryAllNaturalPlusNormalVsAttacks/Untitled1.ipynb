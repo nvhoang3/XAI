{
 "cells": [
  {
   "cell_type": "code",
   "execution_count": 1,
   "metadata": {},
   "outputs": [],
   "source": [
    "import numpy as np\n",
    "import pandas as pd"
   ]
  },
  {
   "cell_type": "code",
   "execution_count": 2,
   "metadata": {},
   "outputs": [],
   "source": [
    "A1 = pd.read_csv('data1.csv',header = 0)\n",
    "A2 = pd.read_csv('data2.csv',header = 0)\n",
    "A3 = pd.read_csv('data3.csv',header = 0)\n",
    "A4 = pd.read_csv('data4.csv',header = 0)\n",
    "A5 = pd.read_csv('data5.csv',header = 0)\n",
    "A6 = pd.read_csv('data6.csv',header = 0)\n",
    "A7 = pd.read_csv('data7.csv',header = 0)\n",
    "A8 = pd.read_csv('data8.csv',header = 0)\n",
    "A9 = pd.read_csv('data9.csv',header = 0)\n",
    "A10 = pd.read_csv('data10.csv',header = 0)\n",
    "A11 = pd.read_csv('data11.csv',header = 0)\n",
    "A12 = pd.read_csv('data12.csv',header = 0)\n",
    "A13 = pd.read_csv('data13.csv',header = 0)\n",
    "A14 = pd.read_csv('data14.csv',header = 0)\n",
    "A15 = pd.read_csv('data15.csv',header = 0)"
   ]
  },
  {
   "cell_type": "code",
   "execution_count": 3,
   "metadata": {},
   "outputs": [],
   "source": [
    "dataframe = pd.concat([A1,A2,A3,A4,A5,A6,A7,A8,A9,A10,A11,A12,A13,A14,A15],ignore_index = True)"
   ]
  },
  {
   "cell_type": "code",
   "execution_count": 4,
   "metadata": {},
   "outputs": [],
   "source": [
    "dataframe.replace([np.inf, -np.inf], np.nan, inplace=True)\n",
    "dataframe = dataframe.dropna()"
   ]
  },
  {
   "cell_type": "code",
   "execution_count": 5,
   "metadata": {},
   "outputs": [],
   "source": [
    "labels = dataframe.iloc[:, -1]\n",
    "labels = labels.where(labels=='Natural', 1)\n",
    "labels = labels.where(labels==1, 0)\n",
    "\n",
    "data = dataframe.iloc[:,:-1]"
   ]
  },
  {
   "cell_type": "code",
   "execution_count": 8,
   "metadata": {},
   "outputs": [],
   "source": [
    "from sklearn.model_selection import train_test_split\n",
    "X_train, X_test, y_train, y_test = train_test_split( data, labels, test_size=0.2, random_state=50,shuffle=False)"
   ]
  },
  {
   "cell_type": "code",
   "execution_count": 11,
   "metadata": {},
   "outputs": [],
   "source": [
    "from sklearn.preprocessing import MinMaxScaler\n",
    "scaler = MinMaxScaler()\n",
    "scaler.fit(X_train)\n",
    "\n",
    "#Chuẩn hóa dữ liệu\n",
    "X_train_norm = scaler.transform(X_train)\n",
    "X_test_norm = scaler.transform(X_test)"
   ]
  },
  {
   "cell_type": "code",
   "execution_count": 12,
   "metadata": {},
   "outputs": [
    {
     "name": "stderr",
     "output_type": "stream",
     "text": [
      "<ipython-input-12-51f61bdf524a>:2: FutureWarning: Support for multi-dimensional indexing (e.g. `obj[:, None]`) is deprecated and will be removed in a future version.  Convert to a numpy array before indexing instead.\n",
      "  train = np.concatenate((X_train_norm, y_train[:,None]), axis=1)\n",
      "<ipython-input-12-51f61bdf524a>:3: FutureWarning: Support for multi-dimensional indexing (e.g. `obj[:, None]`) is deprecated and will be removed in a future version.  Convert to a numpy array before indexing instead.\n",
      "  test = np.concatenate((X_test_norm, y_test[:,None]), axis=1)\n"
     ]
    }
   ],
   "source": [
    "#Bước 5: Lưu file\n",
    "train = np.concatenate((X_train_norm, y_train[:,None]), axis=1)\n",
    "test = np.concatenate((X_test_norm, y_test[:,None]), axis=1)\n",
    "train = pd.DataFrame(train)\n",
    "test = pd.DataFrame(test)\n",
    "train.to_excel(\"traindata_1.xlsx\", header=None, index=None)\n",
    "test.to_excel(\"testdata_1.xlsx\", header=None, index=None)"
   ]
  },
  {
   "cell_type": "code",
   "execution_count": null,
   "metadata": {},
   "outputs": [],
   "source": []
  }
 ],
 "metadata": {
  "kernelspec": {
   "display_name": "Python 3",
   "language": "python",
   "name": "python3"
  },
  "language_info": {
   "codemirror_mode": {
    "name": "ipython",
    "version": 3
   },
   "file_extension": ".py",
   "mimetype": "text/x-python",
   "name": "python",
   "nbconvert_exporter": "python",
   "pygments_lexer": "ipython3",
   "version": "3.8.5"
  }
 },
 "nbformat": 4,
 "nbformat_minor": 4
}
